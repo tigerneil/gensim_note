{
 "metadata": {
  "name": "",
  "signature": "sha256:688376f92a2cbd998bcf5c6e90a94438d033667ab83d2f0b45581e00de3c47fb"
 },
 "nbformat": 3,
 "nbformat_minor": 0,
 "worksheets": [
  {
   "cells": [
    {
     "cell_type": "markdown",
     "metadata": {},
     "source": [
      "\u4e0d\u8981\u5fd8\u8bb0\u8bbe\u7f6elog\uff0c\u4ee5\u8bb0\u5f55\u64cd\u4f5c\u5386\u53f2"
     ]
    },
    {
     "cell_type": "code",
     "collapsed": false,
     "input": [
      "import logging\n",
      "logging.basicConfig(format='%(asctime)s : %(levelname)s : %(message)s', level=logging.INFO)"
     ],
     "language": "python",
     "metadata": {},
     "outputs": [],
     "prompt_number": 31
    },
    {
     "cell_type": "markdown",
     "metadata": {},
     "source": [
      "# \u4eceString\u5230\u5411\u91cf\n",
      "\u8fd9\u6b21\uff0c\u6211\u4eec\u4ecestring\u7c7b\u578b\u8868\u793a\u7684\u6587\u6863\u5f00\u59cb\uff1a"
     ]
    },
    {
     "cell_type": "code",
     "collapsed": false,
     "input": [
      "from gensim import corpora, models, similarities\n",
      "\n",
      "documents = [\"Human machine interface for lab abc computer applications\",\n",
      "             \"A survey of user opinion of computer system response time\",\n",
      "             \"The EPS user interface management system\",\n",
      "             \"System and human system engineering testing of EPS\",\n",
      "             \"Relation of user perceived response time to error measurement\",\n",
      "             \"The generation of random binary unordered trees\",\n",
      "             \"The intersection graph of paths in trees\",\n",
      "             \"Graph minors IV Widths of trees and well quasi ordering\",\n",
      "             \"Graph minors A survey\"]"
     ],
     "language": "python",
     "metadata": {},
     "outputs": [],
     "prompt_number": 2
    },
    {
     "cell_type": "markdown",
     "metadata": {},
     "source": [
      "\u8fd9\u662f\u5305\u542b$9$\u4e2a\u6587\u6863\u7684\u8bed\u6599\u5e93\uff0c\u6bcf\u4e2a\u6587\u6863\u5305\u542b\u4e86\u4e00\u53e5\u8bdd\u3002\n",
      "\u9996\u5148\uff0c\u6211\u4eec\u5148\u5bf9\u6587\u6863\u8fdb\u884c\u89e3\u6790\uff0c\u79fb\u9664\u6389\u901a\u7528\u8bcd\uff08\u4f7f\u7528\u4e00\u4e2a\u7b80\u77ed\u7684\u505c\u8bcd\u8868\uff09\uff1a"
     ]
    },
    {
     "cell_type": "code",
     "collapsed": false,
     "input": [
      "# \u79fb\u9664\u901a\u7528\u8bcd\u5e76\u89e3\u6790\n",
      "stoplist = set('for a of the and to in'.split())\n",
      "# print stoplist\n",
      "texts = [[word for word in document.lower().split() if word not in stoplist] for document in documents]\n",
      "# print texts\n",
      "# \u4e0b\u9762\u7684\u8c03\u7528\u65b9\u5f0f\u53ea\u80fd\u662f\u4e8c\u7ef4\u6570\u7ec4\n",
      "# texts[1] = texts[1].append(['sdf']) \n",
      "# \u79fb\u9664\u53ea\u51fa\u73b0\u4e00\u6b21\u7684\u8bcd\uff0c\u6ce8\u610fsum\u51fd\u6570\u7684\u4f7f\u7528\u65b9\u5f0f\uff0c\u76f8\u5f53\u4e8eMapReduce\u4e2d\u7684\u4e00\u4e9b\u7c7b\u4f3c\u7684\u64cd\u4f5c\n",
      "all_tokens = sum(texts, [])\n",
      "# print all_tokens\n",
      "tokens_once = set(word for word in set(all_tokens) if all_tokens.count(word) == 1)\n",
      "# print tokens_once\n",
      "texts = [[word for word in text if word not in tokens_once] for text in texts]\n",
      "print(texts)"
     ],
     "language": "python",
     "metadata": {},
     "outputs": [
      {
       "output_type": "stream",
       "stream": "stdout",
       "text": [
        "[['human', 'interface', 'computer'], ['survey', 'user', 'computer', 'system', 'response', 'time'], ['eps', 'user', 'interface', 'system'], ['system', 'human', 'system', 'eps'], ['user', 'response', 'time'], ['trees'], ['graph', 'trees'], ['graph', 'minors', 'trees'], ['graph', 'minors', 'survey']]\n"
       ]
      }
     ],
     "prompt_number": 11
    },
    {
     "cell_type": "markdown",
     "metadata": {},
     "source": [
      "\u5f53\u7136\u4e0d\u540c\u573a\u666f\u4e0b\u5904\u7406\u6587\u6863\u7684\u65b9\u5f0f\u4f1a\u6709\u5f88\u5927\u7684\u4e0d\u540c\uff0c\u8fd9\u91cc\uff0c\u6211\u4eec\u4ec5\u4ec5\u4f7f\u7528\u7a7a\u683c\u6765\u8fdb\u884c\u89e3\u6790\uff0c\u7136\u540e\u5c06\u6bcf\u4e2a\u8bcd\u8f6c\u6362\u6210\u5c0f\u5199\u3002\u5b9e\u9645\u4e0a\uff0c\u6211\u4eec\u6a21\u4eff\u4e86Deerweater\u7b49\u4eba\u7684LSA\u6587\u7ae0\u4e2d\u7684\u65b9\u5f0f\uff08\u7b80\u5316\u5e76\u4e14\u662f\u4f4e\u6548\u7684\u4e00\u79cd\u65b9\u5f0f\uff09\u3002\n",
      "\u8fd9\u7c7b\u5904\u7406\u6587\u6863\u7684\u65b9\u5f0f\u5dee\u5f02\u5f88\u5927\u5e76\u4e14\u548c\u5e94\u7528\u4e0e\u8bed\u8a00\u76f8\u5173\uff0c\u6240\u4ee5\u6211\u6ca1\u6709\u4f7f\u7528\u4efb\u4f55\u63a5\u53e3\u5bf9\u8fd9\u4e9b\u8fdb\u884c\u9650\u5236\u3002\u76f8\u53cd\uff0c\u6587\u6863\u7531\u4ece\u5176\u4e2d\u62bd\u53d6\u51fa\u6765\u7684\u7279\u5f81\u8868\u793a\uff0c\u800c\u4e0d\u662f\u6700\u521d\u7684\u90a3\u4e9b\u5b57\u7b26\u4e32\u8868\u793a\uff1a\u5982\u4f55\u83b7\u5f97\u8fd9\u4e9b\u7279\u5f81\u53d6\u51b3\u4e8e\u4f60\u81ea\u5df1\u3002\u4e0b\u9762\u6211\u4f1a\u7ed9\u51fa\u4e00\u4e2a\u901a\u7528\u7684\u89c2\u70b9\u6765\u5bf9\u6587\u6863\u8fdb\u884c\u5904\u7406\uff0c\u4f46\u662f\u9700\u8981\u8bb0\u4f4f\u5728\u4e0d\u540c\u7684\u5e94\u7528\u573a\u666f\uff0c\u9700\u8981\u6709\u4e0d\u540c\u7684\u7279\u5f81\uff0cgarbage in\uff0cgarbage out\u3002\n",
      "\u4e3a\u4e86\u5c06\u6587\u6863\u8f6c\u6362\u4e3a\u5411\u91cf\uff0c\u6211\u4eec\u5c06\u4f7f\u7528\u8bcd\u888b\u6a21\u578b\u3002\u5176\u4e2ding\u6bcf\u4e2a\u6587\u6863\u90fd\u88ab\u8868\u793a\u6210\u4e00\u4e2a\u5411\u91cf\uff0c\u5176\u4e2d\u6bcf\u4e2a\u9879\u90fd\u662f\u8fd9\u4e2a\u9879\u5728\u6587\u6863\u4e2d\u51fa\u73b0\u7684\u6b21\u6570\u3002\n",
      "\n",
      "\u5c06\u8fd9\u4e9b\u8bcd\u90fd\u4f7f\u7528\u4ed6\u4eec\u7684\u6574\u578b\u7684id\u8fdb\u884c\u8868\u793a\u6bd4\u8f83\u65b9\u4fbf\u3002\u800c\u8bcd\u548cid\u4e4b\u95f4\u7684\u5bf9\u5e94\u5173\u7cfb\u5b58\u653e\u5728\u5b57\u5178\u4e4b\u4e2d\uff1a"
     ]
    },
    {
     "cell_type": "code",
     "collapsed": false,
     "input": [
      "dictionary = corpora.Dictionary(texts)\n",
      "dictionary.save('/tmp/deerwester.dict')\n",
      "print(dictionary)"
     ],
     "language": "python",
     "metadata": {},
     "outputs": [
      {
       "output_type": "stream",
       "stream": "stdout",
       "text": [
        "Dictionary(12 unique tokens: [u'minors', u'graph', u'system', u'trees', u'eps']...)\n"
       ]
      }
     ],
     "prompt_number": 15
    },
    {
     "cell_type": "markdown",
     "metadata": {},
     "source": [
      "\u6211\u4eec\u8fd9\u91cc\u8bb2\u4e00\u4e2a\u72ec\u4e00\u65e0\u4e8c\u7684id\u8d4b\u503c\u7ed9\u51fa\u73b0\u5728\u8bed\u6599\u5e93\u4e2d\u7684\u8bcd\uff0c\u5bf9\u5e94\u7684\u7c7b\u5c31\u662f`gensim.corpora.dictionary.Dictionary`\u3002\u8fd9\u91cc\u4f1a\u5bf9\u6240\u6709\u7684\u6587\u6863\u8fdb\u884c\u626b\u63cf\uff0c\u641c\u96c6\u8bcd\u51fa\u73b0\u7684\u4e2a\u6570\u548c\u76f8\u5173\u7684\u7edf\u8ba1\u3002\u6700\u7ec8\uff0c\u6211\u4eec\u770b\u5230\u8fd9\u5806\u6587\u6863\u4e2d\u6709$12$\u4e2a\u4e0d\u540c\u7684\u8bcd\uff0c\u4e5f\u5373\u662f\u8bf4\u6bcf\u4e2a\u6587\u6863\u5c31\u53ef\u4ee5\u4f7f\u7528$12$\u4e2a\u6570\u5b57\u6784\u6210\u7684\uff0812\u7ef4\u7684\u5411\u91cf\uff09\u3002\u6211\u4eec\u53ef\u4ee5\u770b\u770b\u8bcd\u548c\u5bf9\u5e94id\u7684\u6620\u5c04\u5173\u7cfb\uff1a"
     ]
    },
    {
     "cell_type": "code",
     "collapsed": false,
     "input": [
      "print(dictionary.token2id)"
     ],
     "language": "python",
     "metadata": {},
     "outputs": [
      {
       "output_type": "stream",
       "stream": "stdout",
       "text": [
        "{u'minors': 11, u'graph': 10, u'system': 5, u'trees': 9, u'eps': 8, u'computer': 0, u'survey': 4, u'user': 7, u'human': 1, u'time': 6, u'interface': 2, u'response': 3}\n"
       ]
      }
     ],
     "prompt_number": 16
    },
    {
     "cell_type": "markdown",
     "metadata": {},
     "source": [
      "\u5b9e\u9645\u4e0a\u6765\u8bb2\u89e3\u6790\u540e\u7684\u6587\u6863\u8f6c\u6362\u4e3a\u5411\u91cf\uff1a"
     ]
    },
    {
     "cell_type": "code",
     "collapsed": false,
     "input": [
      "new_doc = \"Human computer interaction\"\n",
      "new_vec = dictionary.doc2bow(new_doc.lower().split())\n",
      "print(new_vec) # interaction \u672a\u51fa\u73b0\u5728\u8bed\u6599\u4e2d\uff0c\u6240\u4ee5\u88ab\u5ffd\u7565\u4e86"
     ],
     "language": "python",
     "metadata": {},
     "outputs": [
      {
       "output_type": "stream",
       "stream": "stdout",
       "text": [
        "[(0, 1), (1, 1)]\n"
       ]
      }
     ],
     "prompt_number": 18
    },
    {
     "cell_type": "markdown",
     "metadata": {},
     "source": [
      "`doc2bow`\u7b80\u5355\u6ef4\u7edf\u8ba1\u4e86\u6bcf\u4e2a\u4e0d\u540c\u8bcd\u51fa\u73b0\u7684\u6b21\u6570\uff0c\u5c06\u8fd9\u4e2a\u8bcd\u8f6c\u6362\u4e3a\u5176\u5bf9\u5e94\u7684id\uff0c\u5e76\u8fd4\u56de\u4e00\u4e2a\u7a00\u758f\u5411\u91cf\u3002\u8fd9\u4e2a\u4f8b\u5b50\u4e2d\uff0c`[(0, 1), (1, 1)]`\u5c31\u662f\u6307`computer`\u548c`human`\u51fa\u73b0\u4e86\u4e00\u6b21\uff0c\u800c\u5176\u4ed6\u7684\u8bcd\u90fd\u662f\u51fa\u73b00\u6b21\u3002"
     ]
    },
    {
     "cell_type": "code",
     "collapsed": false,
     "input": [
      "corpus = [dictionary.doc2bow(text) for text in texts]\n",
      "corpora.MmCorpus.serialize('/tmp/deerwester.mm', corpus) # store to disk, for later use\n",
      "print(corpus)"
     ],
     "language": "python",
     "metadata": {},
     "outputs": [
      {
       "output_type": "stream",
       "stream": "stdout",
       "text": [
        "[[(0, 1), (1, 1), (2, 1)], [(0, 1), (3, 1), (4, 1), (5, 1), (6, 1), (7, 1)], [(2, 1), (5, 1), (7, 1), (8, 1)], [(1, 1), (5, 2), (8, 1)], [(3, 1), (6, 1), (7, 1)], [(9, 1)], [(9, 1), (10, 1)], [(9, 1), (10, 1), (11, 1)], [(4, 1), (10, 1), (11, 1)]]\n"
       ]
      }
     ],
     "prompt_number": 19
    },
    {
     "cell_type": "markdown",
     "metadata": {},
     "source": [
      "\u4f46\u662f\u73b0\u5728\u5e94\u8be5\u77e5\u9053\u5411\u91cf\u7684\u7279\u5f81`id=10`\u8868\u793a\u201c\u5bf9\u5e94id\u4e3a10\u7684\u90a3\u4e2a\u8bcd\u5728\u6587\u6863\u4e2d\u51fa\u73b0\u4e86\u591a\u5c11\u6b21\u201d\uff0c\u5bf9\u4e8e\u524d6\u4e2a\u6587\u6863\uff0c\u8fd9\u4e2a\u503c\u90fd\u662f0\uff0c\u5176\u4f593\u4e2a\u90fd\u662f1\u3002\u6240\u4ee5\u73b0\u5728\u6211\u4eec\u5c31\u5f97\u5230\u4e0a\u4e00\u7ae0\u8282\u7684\u8bed\u6599\u5411\u91cf\u3002"
     ]
    },
    {
     "cell_type": "markdown",
     "metadata": {},
     "source": [
      "# \u6d41\u5f0f\u5904\u7406\u8bed\u6599\u5e93\n",
      "\u6ce8\u610f\u4e0a\u9762\u4f8b\u5b50\u4e2d\u8bed\u6599\u90fd\u5b58\u653e\u5728\u5185\u5b58\u4e2d\uff0c\u4f5c\u4e3apython\u7684\u4e00\u4e2a\u5217\u8868\u3002\u5728\u8fd9\u4e2a\u4f8b\u5b50\u4e2d\uff0c\u5185\u5b58\u5e76\u4e0d\u662f\u95ee\u9898\uff0c\u4f46\u662f\u4e3a\u4e86\u8ba9\u4e8b\u60c5\u53d8\u5f97\u6e05\u6670\u4e00\u4e9b\uff0c\u6211\u4eec\u5047\u8bbe\u5728\u8bed\u6599\u5e93\u4e2d\u5b58\u5728\u4e0a\u767e\u4e07\u7bc7\u6587\u6863\u3002\u5c06\u8fd9\u4e9b\u6587\u6863\u90fd\u5b58\u653e\u5230\u5185\u5b58\u4e2d\u5f88\u4e0d\u5408\u9002\u7684\u3002\u6240\u4ee5\u6211\u4eec\u5047\u8bbe\u6587\u6863\u5b58\u653e\u5728\u786c\u76d8\u4e0a\u7684\u4e00\u4e2a\u6587\u4ef6\u4e2d\u3002Gensim\u53ea\u9700\u8981\u8bed\u6599\u5e93\u53ef\u4ee5\u6bcf\u6b21\u8c03\u7528\u4e00\u4e2a\u6587\u6863\u5e76\u8fd4\u56de\u4e00\u4e2a\u6587\u6863\u5411\u91cf\uff1a"
     ]
    },
    {
     "cell_type": "code",
     "collapsed": false,
     "input": [
      "class MyCorpus(object):\n",
      "    def __iter__(self):\n",
      "        for line in open('mycorpus.txt'):\n",
      "            # \u5047\u8bbe\u6bcf\u884c\u4e00\u7bc7\u6587\u6863\uff0c\u8bcd\u4f7f\u7528\u7a7a\u767d\u8fdb\u884c\u5206\u9694\n",
      "            yield dictionary.doc2bow(line.lower().split())"
     ],
     "language": "python",
     "metadata": {},
     "outputs": [],
     "prompt_number": 20
    },
    {
     "cell_type": "markdown",
     "metadata": {},
     "source": [
      "\u4e0b\u8f7d\u6587\u6863[mycorpus.txt](http://radimrehurek.com/gensim/mycorpus.txt)\uff0c\u6211\u4eec\u521b\u5efa\u4e86\u4e00\u4e2a\u6587\u6863\u7684\u8bed\u6599\u5e93\uff0c\u5f62\u5f0f\u5c31\u662f\u5411\u91cf\u6d41\u3002\u4e0b\u9762\u6211\u4eec\u5c31\u5f00\u59cb\u4f7f\u7528gensim\u6765\u5904\u7406\u8bed\u6599\uff1a"
     ]
    },
    {
     "cell_type": "code",
     "collapsed": false,
     "input": [
      "from gensim import corpora, models, similarities\n",
      "dictionary = corpora.Dictionary.load('/tmp/deerwester.dict')\n",
      "corpus = corpora.MmCorpus('/tmp/deerwester.mm')\n",
      "print corpus"
     ],
     "language": "python",
     "metadata": {},
     "outputs": [
      {
       "output_type": "stream",
       "stream": "stdout",
       "text": [
        "MmCorpus(9 documents, 12 features, 28 non-zero entries)\n"
       ]
      }
     ],
     "prompt_number": 21
    },
    {
     "cell_type": "markdown",
     "metadata": {},
     "source": [
      "\u5728\u8fd9\u4e2a\u6559\u7a0b\u4e2d\uff0c\u6211\u5c06\u544a\u8bc9\u4f60\u5982\u4f55\u5c06\u6587\u6863\u4ece\u4e00\u4e2a\u5411\u91cf\u5f62\u5f0f\u8f6c\u6362\u4e3a\u53e6\u4e00\u4e2a\u5f62\u5f0f\u3002\u4e3b\u8981\u5206\u4e3a\u4e24\u76ee\u6807\uff1a\n",
      "1. \u4e3a\u4e86\u5c06\u8bed\u6599\u4e2d\u7684\u9690\u542b\u7ed3\u6784\u627e\u51fa\u6765\uff0c\u53d1\u73b0\u8bcd\u4e4b\u95f4\u7684\u5173\u7cfb\uff0c\u4f7f\u7528\u8fd9\u4e9b\u4fe1\u606f\u6765\u4ece\u4e00\u4e2a\u65b0\u7684\u548c\u66f4\u52a0\u8bed\u4e49\u89d2\u5ea6\u5730\u6765\u63cf\u8ff0\u8fd9\u4e9b\u6587\u6863\u3002\n",
      "2. \u8ba9\u6587\u6863\u7684\u8868\u793a\u66f4\u52a0\u7d27\u81f4\u4e00\u4e9b\u3002\u6709\u52a9\u4e8e\u63d0\u9ad8\u6027\u80fd\uff08\u65b0\u7684\u8868\u793a\u65b9\u6cd5\u6d88\u8017\u8f83\u5c11\u7684\u8d44\u6e90\uff09\u548c\u51c6\u786e\u5ea6\uff08\u566a\u58f0\u88ab\u51cf\u5c11\u5f88\u591a\uff09\n",
      "## \u521b\u5efa\u4e00\u4e2a\u8f6c\u6362\n",
      "\u8f6c\u6362\u662f\u6807\u51c6\u7684python\u5bf9\u8c61\uff0c\u4f7f\u7528\u4e00\u4e2a\u8bad\u7ec3\u8bed\u6599\u5e93\u8fdb\u884c\u521d\u59cb\u5316\uff1a"
     ]
    },
    {
     "cell_type": "code",
     "collapsed": false,
     "input": [
      "tfidf = models.TfidfModel(corpus)"
     ],
     "language": "python",
     "metadata": {},
     "outputs": [],
     "prompt_number": 24
    },
    {
     "cell_type": "markdown",
     "metadata": {},
     "source": [
      "\u6211\u4eec\u4f7f\u7528\u6559\u7a0b1\u4e2d\u7684\u65e7\u7684\u8bed\u6599\uff0c\u521d\u59cb\u5316\u8f6c\u6362\u6a21\u578b\u3002\u4e0d\u540c\u7684\u8f6c\u6362\u53ef\u80fd\u9700\u8981\u4e0d\u540c\u7684\u521d\u59cb\u5316\u53c2\u6570\u3002\u5728Tfidf\u7684\u4f8b\u5b50\u4e2d\uff0c\u8bad\u7ec3\u8fc7\u7a0b\u5305\u542b\u626b\u63cf\u4e00\u904d\u8bed\u6599\u7136\u540e\u8ba1\u7b97\u6240\u6709\u7279\u5f81\u7684\u6587\u6863\u7684\u9891\u7387\u3002\u8bad\u7ec3\u5176\u4ed6\u7684\u6a21\u578b\uff0c\u4f8b\u5982LSI\u6216\u8005LDA\uff0c\u9700\u8981\u6d88\u8017\u66f4\u591a\u7684\u7a7a\u95f4\u548c\u66f4\u591a\u7684\u65f6\u95f4\u3002\n",
      "> \u8f6c\u6362\u901a\u5e38\u662f\u5728\u4e24\u4e2a\u7279\u5b9a\u7684\u5411\u91cf\u7a7a\u95f4\u4e4b\u95f4\u8fdb\u884c\u8f6c\u6362\u3002\u540c\u6837\u7684\u5411\u91cf\u7a7a\u95f4\uff08\u540c\u6837\u7684\u7279\u5f81id\u7684\u96c6\u5408\uff09\u80af\u5b9a\u4e5f\u5728\u5b50\u5411\u91cf\u8f6c\u6362\u4e2d\u4f7f\u7528\u5230\u3002\u5f53\u7136\u5982\u679c\u4f7f\u7528\u4e0d\u540c\u7684\u5b57\u7b26\u4e32\u9884\u5904\u7406\u4ea7\u751f\u7684\u7ed3\u679c\uff0c\u4f7f\u7528\u4e0d\u540c\u7684\u7279\u5f81id\u6216\u8005\u4f7f\u7528\u8bcd\u888b\u6a21\u578b\u800c\u9700\u8981Tfidf\u5411\u91cf\u65f6\u90fd\u4f1a\u5bfc\u81f4\u7279\u5f81\u7684\u6df7\u4e71\uff0c\u6240\u4ee5\u4e5f\u5c31\u5bfc\u81f4\u6700\u7ec8\u7684\u5783\u573e\u7ed3\u679c\u4ea7\u751f\u6216\u8005\u8fd0\u884c\u65f6\u51fa\u73b0\u5f02\u5e38\u3002\n",
      "\n",
      "# \u8f6c\u6362\u5411\u91cf\n",
      "\u4ece\u73b0\u5728\u5f00\u59cb\uff0c`tfidf`\u88ab\u5f53\u505a\u662f\u53ea\u8bfb\u7684\u5bf9\u8c61\uff0c\u53ef\u4ee5\u7528\u6765\u628a\u4ece\u65e7\u7684\u8868\u793a\u65b9\u5f0f\uff08\u8bcd\u888b\u6a21\u578b\u6574\u6570\u503c\uff09\u5230\u65b0\u7684\u8868\u793a\u65b9\u5f0f\uff08tfidf\u6a21\u578b\u7684\u5b9e\u6570\u503c\uff09\uff1a"
     ]
    },
    {
     "cell_type": "code",
     "collapsed": false,
     "input": [
      "doc_bow = [(0,1),(1,1)]\n",
      "print(tfidf[doc_bow])"
     ],
     "language": "python",
     "metadata": {},
     "outputs": [
      {
       "output_type": "stream",
       "stream": "stdout",
       "text": [
        "[(0, 0.7071067811865476), (1, 0.7071067811865476)]\n"
       ]
      }
     ],
     "prompt_number": 26
    },
    {
     "cell_type": "markdown",
     "metadata": {},
     "source": [
      "\u6216\u8005\u5bf9\u6574\u4e2a\u8bed\u6599\u5e93\u8fdb\u884c\u8f6c\u6362\uff1a"
     ]
    },
    {
     "cell_type": "code",
     "collapsed": false,
     "input": [
      "corpus_tfidf = tfidf[corpus]\n",
      "for doc in corpus_tfidf:\n",
      "    print(doc)"
     ],
     "language": "python",
     "metadata": {},
     "outputs": [
      {
       "output_type": "stream",
       "stream": "stdout",
       "text": [
        "[(0, 0.5773502691896257), (1, 0.5773502691896257), (2, 0.5773502691896257)]\n",
        "[(0, 0.44424552527467476), (3, 0.44424552527467476), (4, 0.44424552527467476), (5, 0.3244870206138555), (6, 0.44424552527467476), (7, 0.3244870206138555)]\n",
        "[(2, 0.5710059809418182), (5, 0.4170757362022777), (7, 0.4170757362022777), (8, 0.5710059809418182)]\n",
        "[(1, 0.49182558987264147), (5, 0.7184811607083769), (8, 0.49182558987264147)]\n",
        "[(3, 0.6282580468670046), (6, 0.6282580468670046), (7, 0.45889394536615247)]\n",
        "[(9, 1.0)]\n",
        "[(9, 0.7071067811865475), (10, 0.7071067811865475)]\n",
        "[(9, 0.5080429008916749), (10, 0.5080429008916749), (11, 0.695546419520037)]\n",
        "[(4, 0.6282580468670046), (10, 0.45889394536615247), (11, 0.6282580468670046)]\n"
       ]
      }
     ],
     "prompt_number": 27
    },
    {
     "cell_type": "markdown",
     "metadata": {},
     "source": [
      "\u5728\u8fd9\u4e2a\u4f8b\u5b50\u4e2d\uff0c\u6211\u4eec\u5728\u8f6c\u6362\u7528\u4e8e\u8bad\u7ec3\u7684\u540c\u6837\u7684\u9884\u6599\uff0c\u4f46\u662f\u8fd9\u53ea\u662f\u4e00\u4e2a\u5de7\u5408\u3002\u4e00\u65e6\u8f6c\u6362\u6a21\u578b\u5df2\u7ecf\u521d\u59cb\u5316\u4e86\uff0c\u5b83\u5c31\u53ef\u4ee5\u5e94\u7528\u5728\u4efb\u4f55\u5411\u91cf\u4e0a\uff08\u5f53\u7136\u8fd9\u4e9b\u5411\u91cf\u6765\u81ea\u540c\u6837\u7684\u5411\u91cf\u7a7a\u95f4\uff09\u3002\u5373\u4f7f\u4ed6\u4eec\u6ca1\u5728\u8bad\u7ec3\u9884\u6599\u4e2d\u4f7f\u7528\u8fc7\u3002\u8fd9\u53ef\u4ee5\u901a\u8fc7\u4e00\u4e2aLSA\u4e2d\u7684\u79f0\u4e3afolding-in\u7684\u8fc7\u7a0b\u5f97\u5230\uff08\u5728LDA\u4e2d\u53eb\u505a\u8bdd\u9898\u63a8\u65ad\uff09\u3002\n",
      "\n",
      "> \u8c03\u7528`model[corpus]`\u4ec5\u4ec5\u521b\u5efa\u4e86\u4e00\u4e2awrapper\u5728\u65e7\u7684\u8bed\u6599\u6587\u6863\u6d41\u4e4b\u5916\u3002\u5b9e\u9645\u4e0a\u8f6c\u6362\u5c31\u5728\u6587\u6863\u8fed\u4ee3\u8fc7\u7a0b\u4e2d\u5b8c\u6210\u3002\u6211\u4eec\u4e0d\u80fd\u5728\u8c03\u7528`corpus_transformed = model[corpus]`\u7684\u65f6\u5019\u8f6c\u6362\u6574\u4e2a\u8bed\u6599\uff0c\u56e0\u4e3a\u8fd9\u8981\u6c42\u5c06\u7ed3\u679c\u5b58\u50a8\u5728\u4e3b\u5b58\u4e2d\uff0c\u4e0egensim\u7684\u5185\u5b58\u72ec\u7acb\u7684\u76ee\u6807\u51b2\u7a81\u3002\u5982\u679c\u4f60\u9700\u8981\u8bfb\u53d6`corpus_transformed`\u591a\u6b21\uff0c\u4ee3\u4ef7\u5f88\u5927\uff0c\u4f60\u53ef\u4ee5\u5148\u5c06\u7ed3\u679c\u8bed\u6599\u5e8f\u5217\u5316\u5b58\u8fdb\u78c1\u76d8\u4e2d\uff0c\u7136\u540e\u4f7f\u7528\u5b83\u3002\n",
      "\n",
      "\u8f6c\u6362\u53ef\u4ee5\u4ee5\u94fe\u5f0f\u7684\u65b9\u5f0f\u8fdb\u884c\u88ab\u5e8f\u5217\u5316\uff1a"
     ]
    },
    {
     "cell_type": "code",
     "collapsed": false,
     "input": [
      "lsi = models.LsiModel(corpus_tfidf, id2word=dictionary, num_topics=2)\n",
      "corpus_lsi = lsi[corpus_tfidf]"
     ],
     "language": "python",
     "metadata": {},
     "outputs": [],
     "prompt_number": 28
    },
    {
     "cell_type": "markdown",
     "metadata": {},
     "source": [
      "\u8fd9\u91cc\u6211\u4eec\u5c06Tfidf\u8bed\u6599\u4f7f\u7528Latent semantic indexing\u8f6c\u6362\u4e3a\u4e00\u4e2a\u6f5c\u5728\u76842D\u7a7a\u95f4\uff08\u56e0\u4e3a\u6211\u4eec\u8fd9\u91cc\u5c06topic\u7684\u6570\u76ee\u8bbe\u7f6e\u4e3a2 `num_topics=2`\uff09\u3002\u73b0\u5728\u4f60\u53ef\u80fd\u5728\u60f3\uff1a\u8fd9\u4e24\u4e2a\u9690\u542b\u7684\u7ef4\u5ea6\u8868\u793a\u4ec0\u4e48\uff1f\u8ba9\u6211\u4eec\u597d\u597d\u770b\u770b`models.LsiModel.print_topics()`\uff1a"
     ]
    },
    {
     "cell_type": "code",
     "collapsed": false,
     "input": [
      "lsi.print_topics(2)"
     ],
     "language": "python",
     "metadata": {},
     "outputs": [
      {
       "metadata": {},
       "output_type": "pyout",
       "prompt_number": 34,
       "text": [
        "[u'0.703*\"trees\" + 0.538*\"graph\" + 0.402*\"minors\" + 0.187*\"survey\" + 0.061*\"system\" + 0.060*\"response\" + 0.060*\"time\" + 0.058*\"user\" + 0.049*\"computer\" + 0.035*\"interface\"',\n",
        " u'-0.460*\"system\" + -0.373*\"user\" + -0.332*\"eps\" + -0.328*\"interface\" + -0.320*\"response\" + -0.320*\"time\" + -0.293*\"computer\" + -0.280*\"human\" + -0.171*\"survey\" + 0.161*\"trees\"']"
       ]
      }
     ],
     "prompt_number": 34
    },
    {
     "cell_type": "markdown",
     "metadata": {},
     "source": [
      "\u6839\u636eLSI\uff0ctrees\u3001graph\u548cminors\u662f\u76f8\u5173\u7684\u8bcd\uff08\u5e76\u5bf9\u7b2c\u4e00\u4e2a\u8bdd\u9898\u8d21\u732e\u4e86\u6700\u5927\u7684\u529b\u5ea6\uff0c\u800c\u7b2c\u4e8c\u4e2a\u8bdd\u9898\u770b\u4e0a\u53bb\u6240\u6709\u7684 \u3002\u524d5\u4e2a\u6587\u6863\u5f3a\u76f8\u5173\u4e8e\u7b2c\u4e8c\u4e2a\u8bdd\u9898\uff0c\u800c\u540e4\u4e2a\u5c31\u5173\u8054\u4e8e\u7b2c\u4e00\u4e2a\u8bdd\u9898\uff1a                                                                                    "
     ]
    },
    {
     "cell_type": "code",
     "collapsed": false,
     "input": [
      "for doc in corpus_lsi:\n",
      "    print(doc)"
     ],
     "language": "python",
     "metadata": {},
     "outputs": [
      {
       "output_type": "stream",
       "stream": "stdout",
       "text": [
        "[(0, 0.06600783396090347), (1, -0.52007033063618469)]\n",
        "[(0, 0.19667592859142535), (1, -0.76095631677000442)]\n",
        "[(0, 0.089926399724464146), (1, -0.72418606267525076)]\n",
        "[(0, 0.075858476521781557), (1, -0.63205515860034289)]\n",
        "[(0, 0.10150299184980199), (1, -0.57373084830029519)]\n",
        "[(0, 0.70321089393783109), (1, 0.16115180214025829)]\n",
        "[(0, 0.87747876731198304), (1, 0.16758906864659448)]\n",
        "[(0, 0.90986246868185772), (1, 0.14086553628719053)]\n",
        "[(0, 0.61658253505692795), (1, -0.0539290756638936)]\n"
       ]
      }
     ],
     "prompt_number": 35
    },
    {
     "cell_type": "markdown",
     "metadata": {},
     "source": [
      "\u6a21\u578b\u7684\u6301\u4e45\u6027\u53ef\u4ee5\u901a\u8fc7`save()`\u548c`load()`\u8fbe\u6210\uff1a"
     ]
    },
    {
     "cell_type": "code",
     "collapsed": false,
     "input": [
      "lsi.save('/tmp/model.lsi')\n",
      "lsi = models.LsiModel.load('/tmp/model.lsi')"
     ],
     "language": "python",
     "metadata": {},
     "outputs": [],
     "prompt_number": 37
    },
    {
     "cell_type": "markdown",
     "metadata": {},
     "source": [
      "\u4e0b\u9762\u7684\u95ee\u9898\u5c31\u662f\uff1a\u8fd9\u4e9b\u6587\u6863\u4e4b\u95f4\u76f8\u4f3c\u7a0b\u5ea6\u600e\u4e48\u6837\uff1f\u6709\u4e00\u79cd\u65b9\u5f0f\u6765\u5f62\u5f0f\u5316\u8fd9\u6837\u7684\u76f8\u4f3c\u6027\u4e48\uff0c\u7ed9\u5b9a\u4e00\u4e2a\u8f93\u5165\u6587\u6863\uff0c\u627e\u5230\u4e0e\u4e4b\u76f8\u4f3c\u7684\u4e00\u7cfb\u5217\u6587\u6863\uff1f\u76f8\u4f3c\u5ea6\u91cf\u5728\u4e0b\u4e2a\u6559\u7a0b\u4e2d\u8bb2\u8ff0\u3002\n",
      "# \u53ef\u7528\u7684\u8f6c\u6362\n",
      "gensim\u5b9e\u73b0\u4e86\u51e0\u4e2a\u8457\u540d\u7684\u5411\u91cf\u7a7a\u95f4\u6a21\u578b\u7b97\u6cd5\uff1a\n",
      "1. TFidf\n",
      "\n"
     ]
    },
    {
     "cell_type": "markdown",
     "metadata": {},
     "source": [
      "2. LSI"
     ]
    },
    {
     "cell_type": "markdown",
     "metadata": {},
     "source": [
      "3. LDA"
     ]
    }
   ],
   "metadata": {}
  }
 ]
}
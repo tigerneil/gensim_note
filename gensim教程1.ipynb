{
 "metadata": {
  "name": "",
  "signature": "sha256:08f28ded21f257aa7be942a471f9422b04fd0512ad30a6aab227da82f9daf6f7"
 },
 "nbformat": 3,
 "nbformat_minor": 0,
 "worksheets": [
  {
   "cells": [
    {
     "cell_type": "code",
     "collapsed": false,
     "input": [
      "import logging\n",
      "logging.basicConfig(format='%(asctime)s : %(levelname)s : %(message)s', level=logging.INFO)"
     ],
     "language": "python",
     "metadata": {},
     "outputs": [],
     "prompt_number": 1
    },
    {
     "cell_type": "markdown",
     "metadata": {},
     "source": [
      "# \u5feb\u901f\u4f8b\u5b50\n",
      "\u4e0b\u9762\u6211\u4eec\u5c1d\u8bd5\u5bfc\u5165gensim\u5e76\u521b\u5efa\u5305\u542b$9$\u4e2a\u6587\u6863\u7684\u8bed\u6599\u5e93\uff0c\u5171\u6709$12$\u4e2a\u7279\u5f81"
     ]
    },
    {
     "cell_type": "code",
     "collapsed": false,
     "input": [
      "from gensim import corpora, models, similarities\n",
      "\n",
      "\n",
      "corpus = [[(0, 1.0), (1, 1.0), (2, 1.0)],\n",
      "          [(2, 1.0), (3, 1.0), (4, 1.0), (5, 1.0), (6, 1.0), (8, 1.0)],\n",
      "          [(1, 1.0), (3, 1.0), (4, 1.0), (7, 1.0)],\n",
      "          [(0, 1.0), (4, 2.0), (7, 1.0)],\n",
      "          [(3, 1.0), (5, 1.0), (6, 1.0)],\n",
      "          [(9, 1.0)],\n",
      "          [(9, 1.0), (10, 1.0)],\n",
      "          [(9, 1.0), (10, 1.0), (11, 1.0)],\n",
      "          [(8, 1.0), (10, 1.0), (11, 1.0)]]"
     ],
     "language": "python",
     "metadata": {},
     "outputs": [],
     "prompt_number": 2
    },
    {
     "cell_type": "markdown",
     "metadata": {},
     "source": [
      "\u8bed\u6599corpora\u5c31\u662f\u4e00\u7cfb\u5217\u6587\u6863\u7684\u96c6\u5408\uff0c\u5176\u4e2d\u7684\u8bcd\u5df2\u7ecf\u4f7f\u7528\u4e86\u5b57\u5178\u8fdb\u884c\u76f8\u5e94\u7684\u8f6c\u6362\uff0c\u6210\u4e3a\u4e00\u4e2a\u4e2a\u6570\u5b57\uff0c\u6211\u4eec\u53ef\u4ee5\u901a\u8fc7\u5b57\u5178\u7684\u5bf9\u5e94\u5173\u7cfb\u4ece\u6570\u5b57\u627e\u5230\u5bf9\u5e94\u7684\u8bcd\u3002\u8bed\u6599\u4e2d\u7684\u6bcf\u4e2a\u9879\u5bf9\u5e94\u7740\u6bcf\u4e00\u7bc7\u4f7f\u7528\u7a00\u758f\u5411\u91cf\u8868\u793a\u7684\u6587\u6863\u3002\u540e\u9762\u6211\u4eec\u4f1a\u8c08\u8c08\u4f55\u4e3a\u5411\u91cf\u7a7a\u95f4\u6a21\u578b\uff08Vector Space Model\uff09\u3002\u5982\u679c\u4f60\u719f\u6089\u5411\u91cf\u7a7a\u95f4\u6a21\u578b\uff0c\u4f60\u53ef\u80fd\u5df2\u7ecf\u77e5\u9053\u4e86\u662f\u5982\u4f55parse\u6587\u6863\u7684\u65b9\u5f0f\uff0c\u5206\u8bcd\u7684\u597d\u574f\u76f4\u63a5\u5f71\u54cd\u5230\u540e\u7eed\u7684\u5e94\u7528\u3002\n",
      "> \u5728\u4f8b\u5b50\u4e2d\uff0c\u4f1a\u5c06\u6240\u6709\u7684\u8bed\u6599\u90fd\u4ee5\u4e00\u4e2apython list\u7684\u5f62\u5f0f\u5b58\u653e\u5728\u5185\u5b58\u4e2d\u3002\u7136\u800c\uff0cgensim\u652f\u6301\u5bf9\u6587\u6863\u8fdb\u884c\u8bfb\u53d6\u8fed\u4ee3\u3002\u5bf9\u5f88\u5927\u7684\u8bed\u6599\uff0c\u5f53\u7136\u5c06\u5176\u5b58\u653e\u5728\u786c\u76d8\u4e0a\u66f4\u52a0\u5408\u9002\uff0c\u5e76\u987a\u5e8f\u5730\u8fdb\u884c\u8bfb\u53d6\uff0c\u4e00\u6b21\u4e00\u4e2a\u3002gensim\u7684\u5b9e\u73b0\u65b9\u5f0f\u6b63\u662f\u4f7f\u7528\u4e86\u8fd9\u6837\u7684\u65b9\u5f0f\uff0c\u72ec\u7acb\u4e8e\u8bed\u6599\u7684\u89c4\u6a21\u548c\u5185\u5b58\u3002\n",
      "\n",
      "\u4e0b\u9762\u6211\u4eec\u521d\u59cb\u5316\u4e00\u4e2a\u8f6c\u6362\uff08transformation\uff09\uff1a"
     ]
    },
    {
     "cell_type": "code",
     "collapsed": false,
     "input": [
      "tfidf = models.TfidfModel(corpus)"
     ],
     "language": "python",
     "metadata": {},
     "outputs": [],
     "prompt_number": 4
    },
    {
     "cell_type": "markdown",
     "metadata": {},
     "source": [
      "\u8f6c\u6362\u7684\u4f5c\u7528\u662f\u5c06\u4ece\u4e00\u4e2a\u77e9\u9635\u5b58\u50a8\u7684\u6587\u4ef6\u8f7d\u5165\u8bed\u6599\u8fed\u4ee3\u5668"
     ]
    },
    {
     "cell_type": "code",
     "collapsed": false,
     "input": [
      "vec = [(0,1),(4,1)]\n",
      "print(tfidf[vec])"
     ],
     "language": "python",
     "metadata": {},
     "outputs": [
      {
       "output_type": "stream",
       "stream": "stdout",
       "text": [
        "[(0, 0.8075244024440723), (4, 0.5898341626740045)]\n"
       ]
      }
     ],
     "prompt_number": 5
    },
    {
     "cell_type": "markdown",
     "metadata": {},
     "source": [
      "\u8fd9\u91cc\u6211\u4eec\u4f7f\u7528\u4e86Tfidf\uff0c\u8fd9\u4e2a\u7b80\u5355\u7684\u8f6c\u6362\u628a\u6587\u6863\u8868\u793a\u6210\u4e3a\u8bcd\u888b\u6a21\u578b\uff0c\u5e76\u4f7f\u7528\u4e00\u4e2a\u5bf9\u901a\u5e38\u8bcd\u8fdb\u884c\u6253\u6298\u7684\u65b9\u5f0f\u6765\u63d0\u9ad8\u7a00\u6709\u8bcd\u7684\u91cd\u8981\u6027\u3002\u540c\u6837\u4e5f\u628a\u6700\u7ec8\u7684\u5411\u91cf\u8fdb\u884c\u4e86\u5355\u4f4d\u5316\uff08\u4f7f\u7528\u6b27\u51e0\u91cc\u5f97\u8303\u6570Euclidean norm\uff09\n",
      "\u8f6c\u6362\u53ef\u4ee5\u5728[Topics and Transformations](http://radimrehurek.com/gensim/tut2.html)\u4e2d\u627e\u5230\u3002\n",
      "\u4f7f\u7528Tfidf\u8f6c\u6362\u6574\u4e2a\u8bed\u6599\u5e76\u8fdb\u884c\u7d22\u5f15\uff0c\u4ee5\u4f9b\u67e5\u8be2\uff1a"
     ]
    },
    {
     "cell_type": "code",
     "collapsed": false,
     "input": [
      "index = similarities.SparseMatrixSimilarity(tfidf[corpus], num_features=12)"
     ],
     "language": "python",
     "metadata": {},
     "outputs": [],
     "prompt_number": 6
    },
    {
     "cell_type": "markdown",
     "metadata": {},
     "source": [
      "\u67e5\u8be2\u5411\u91cf`vec`\u548c\u8bed\u6599\u4e2d\u7684\u6bcf\u4e2a\u6587\u6863\u7684\u76f8\u4f3c\u6027\uff1a"
     ]
    },
    {
     "cell_type": "code",
     "collapsed": false,
     "input": [
      "sims = index[tfidf[vec]]\n",
      "print(list(enumerate(sims)))"
     ],
     "language": "python",
     "metadata": {},
     "outputs": [
      {
       "output_type": "stream",
       "stream": "stdout",
       "text": [
        "[(0, 0.4662244), (1, 0.19139354), (2, 0.24600551), (3, 0.82094586), (4, 0.0), (5, 0.0), (6, 0.0), (7, 0.0), (8, 0.0)]\n"
       ]
      }
     ],
     "prompt_number": 7
    },
    {
     "cell_type": "markdown",
     "metadata": {},
     "source": [
      "\u8fd9\u4e2a\u7ed3\u679c\u6211\u4eec\u600e\u4e48\u8bfb\uff1f\u4e0e\u7b2c\u4e00\u4e2a\u6587\u6863\u76f8\u4f3c\u5ea6\u4e3a$0.4662244$...\n",
      "\u56e0\u6b64\uff0c\u6839\u636eTfidf\u6587\u6863\u8868\u793a\u548c\u4f59\u5f26\u76f8\u4f3c\u5ea6\u5ea6\u91cf\uff0c\u8ddf\u6211\u4eec$vec$\u67e5\u8be2\u5411\u91cf\u6700\u4e3a\u76f8\u4f3c\u7684\u5c31\u662f\u7b2c\u4e09\u4e2a\u6587\u6863\uff0c\u5176\u76f8\u4f3c\u5ea6\u4e3a$0.8209$\u3002\u6ce8\u610f\u5728Tfidf\u8868\u793a\u4e2d\uff0c\u4efb\u610f\u6587\u6863\u8ddf`vec`\u6ca1\u6709\u76f8\u540c\u7684\u7279\u5f81\u7684\u90fd\u662f$0$\u3002\u53c2\u89c1[\u76f8\u4f3c\u5ea6\u67e5\u8be2](http://radimrehurek.com/gensim/tut3.html)"
     ]
    },
    {
     "cell_type": "code",
     "collapsed": false,
     "input": [],
     "language": "python",
     "metadata": {},
     "outputs": []
    }
   ],
   "metadata": {}
  }
 ]
}
